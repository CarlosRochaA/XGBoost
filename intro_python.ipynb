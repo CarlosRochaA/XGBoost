{
  "nbformat": 4,
  "nbformat_minor": 0,
  "metadata": {
    "colab": {
      "name": "Untitled3.ipynb",
      "provenance": [],
      "authorship_tag": "ABX9TyN8MMtlsRkZyi2SjDVgOctk",
      "include_colab_link": true
    },
    "kernelspec": {
      "name": "python3",
      "display_name": "Python 3"
    },
    "language_info": {
      "name": "python"
    }
  },
  "cells": [
    {
      "cell_type": "markdown",
      "metadata": {
        "id": "view-in-github",
        "colab_type": "text"
      },
      "source": [
        "<a href=\"https://colab.research.google.com/github/CarlosRochaA/py/blob/master/intro_python.ipynb\" target=\"_parent\"><img src=\"https://colab.research.google.com/assets/colab-badge.svg\" alt=\"Open In Colab\"/></a>"
      ]
    },
    {
      "cell_type": "markdown",
      "metadata": {
        "id": "Jo0dPa4IOikK"
      },
      "source": [
        "<a id='contents'></a>\n",
        "# Contents\n",
        "[1. Import libraries and settings](#import) <br>\n",
        "[2. Read data and create datasets](#read) <br>\n",
        "[3. Development by company](#dev) <br>\n",
        "&emsp;&emsp;[3.1 Nielsen](#dev_nielsen) <br> \n",
        "&emsp;&emsp;&emsp;&emsp;[3.1.1 Export Nielsen](#exp_nielsen) <br> \n",
        "&emsp;&emsp;[3.2 FreeWheel](#dev_freewheel) <br> \n",
        "&emsp;&emsp;&emsp;&emsp;[3.2.1 Export FreeWheel](#exp_freewheel) <br> \n",
        "&emsp;&emsp;[3.3 Kusa](#dev_kusa) <br> \n",
        "&emsp;&emsp;&emsp;&emsp;[3.3.1 Export Kusa](#exp_kusa) <br> \n",
        "&emsp;&emsp;[3.4 KDVR](#dev_kdvrn) <br> \n",
        "&emsp;&emsp;&emsp;&emsp;[3.4.1 Export KDVR](#exp_kdvr) <br> \n",
        "&emsp;&emsp;[3.5 Denver ABC - KMGH](#dev_denver) <br> \n",
        "&emsp;&emsp;&emsp;&emsp;[3.5.1 Export Denver ABC - KMGH](#exp_denver) <br> "
      ]
    },
    {
      "cell_type": "code",
      "metadata": {
        "id": "M0CRWge3Ogz8"
      },
      "source": [
        ""
      ],
      "execution_count": null,
      "outputs": []
    },
    {
      "cell_type": "code",
      "metadata": {
        "id": "WwWQUJHMMcwh",
        "outputId": "be687f23-c81d-4aee-ca87-0d4c5710626b",
        "colab": {
          "base_uri": "https://localhost:8080/",
          "height": 129
        }
      },
      "source": [
        "http://colab.research.google.com/#create=true"
      ],
      "execution_count": 1,
      "outputs": [
        {
          "output_type": "error",
          "ename": "SyntaxError",
          "evalue": "ignored",
          "traceback": [
            "\u001b[0;36m  File \u001b[0;32m\"<ipython-input-1-0fa227229a3a>\"\u001b[0;36m, line \u001b[0;32m1\u001b[0m\n\u001b[0;31m    http://colab.research.google.com/#create=true\u001b[0m\n\u001b[0m          ^\u001b[0m\n\u001b[0;31mSyntaxError\u001b[0m\u001b[0;31m:\u001b[0m invalid syntax\n"
          ]
        }
      ]
    }
  ]
}