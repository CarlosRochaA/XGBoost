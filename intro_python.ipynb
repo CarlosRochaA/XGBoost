{
  "nbformat": 4,
  "nbformat_minor": 0,
  "metadata": {
    "colab": {
      "name": "Untitled3.ipynb",
      "provenance": [],
      "authorship_tag": "ABX9TyMqbpK0n0ueP0GGbPIT/qQp",
      "include_colab_link": true
    },
    "kernelspec": {
      "name": "python3",
      "display_name": "Python 3"
    },
    "language_info": {
      "name": "python"
    }
  },
  "cells": [
    {
      "cell_type": "markdown",
      "metadata": {
        "id": "view-in-github",
        "colab_type": "text"
      },
      "source": [
        "<a href=\"https://colab.research.google.com/github/CarlosRochaA/py/blob/master/intro_python.ipynb\" target=\"_parent\"><img src=\"https://colab.research.google.com/assets/colab-badge.svg\" alt=\"Open In Colab\"/></a>"
      ]
    },
    {
      "cell_type": "markdown",
      "metadata": {
        "id": "Jo0dPa4IOikK"
      },
      "source": [
        "<a name=\"contents\"></a>\n",
        "# Contents\n",
        "[1. Inteligencia Artificial y Python](#ia_py) <br>\n",
        "\n",
        "\n",
        "[3. Development by company](#dev) <br>\n",
        "&emsp;&emsp;[3.1 Nielsen](#dev_nielsen) <br> \n",
        "&emsp;&emsp;&emsp;&emsp;[3.1.1 Export Nielsen](#exp_nielsen) <br> \n",
        "&emsp;&emsp;[3.2 FreeWheel](#dev_freewheel) <br> \n",
        "&emsp;&emsp;&emsp;&emsp;[3.2.1 Export FreeWheel](#exp_freewheel) <br> \n",
        "&emsp;&emsp;[3.3 Kusa](#dev_kusa) <br> \n",
        "&emsp;&emsp;&emsp;&emsp;[3.3.1 Export Kusa](#exp_kusa) <br> \n",
        "&emsp;&emsp;[3.4 KDVR](#dev_kdvrn) <br> \n",
        "&emsp;&emsp;&emsp;&emsp;[3.4.1 Export KDVR](#exp_kdvr) <br> \n",
        "&emsp;&emsp;[3.5 Denver ABC - KMGH](#dev_denver) <br> \n",
        "&emsp;&emsp;&emsp;&emsp;[3.5.1 Export Denver ABC - KMGH](#exp_denver) <br> "
      ]
    },
    {
      "cell_type": "markdown",
      "source": [
        "<a name=\"ia_py\"></a>\n",
        "## 1. Inteligencia Artificial y Python\n",
        "[Contents](#contents) <br>\n",
        "\n",
        "#### Big Data:\n",
        "*   Apacke Spark (https://spark.apache.org/)\n",
        "*   Hadoop (https://hadoop.apache.org)\n",
        "*   Dask (https://dask.org)\n",
        "\n",
        "#### Inteligencia Artificial:\n",
        "Algoritmos para que las computadoras puedan tener comportamientos similares a los humanos, categorizaciones de imagenes, reconocimiento de patrones, PNL y otros. \n",
        "\n",
        "*   Scikit-learn (https://scikit-learn.org/)\n",
        "\n",
        "#### Deep learning: \n",
        "Algoritmos de aprendizaje automático para analizar datos expresados de forma matricial o tensorial mediante capas de redes neuronales, en la mayoría de los casos no necesitan intervención humana para su aprendizaje.\n",
        "\n",
        "*   TensorFlow (https://www.tensorflow.org/)\n",
        "*   CNTK (https://www.docs.microsoft.com/es-es/cognitive-toolkit/)\n",
        "*   Theano (https://py.pi.org/project/Theano/)\n",
        "\n",
        "Estos tres frameworks pueden ser utilizados facilmente por la libreria Keras (https://keras.io)\n",
        "\n",
        "### Indentacion\n",
        "Se recomienda 4 espacios \n",
        "\n",
        "### Longitud de líneas \n",
        "Longitud máxima 79 caracteres y 72 para los comentario, \"\\\" salto de linea\n",
        "\n",
        "### Consejos generales\n",
        "Para comparaciones utiliza las herramientas del lenguaje\n",
        "```python\n",
        "#  Incorrecto                               Correcto\n",
        "l = range(5)                                l = range(5)                    \n",
        "if len(l) > 0:                              if l:\n",
        "    print('cadena')                             print('cadena')\n",
        "\n",
        "#  Incorrecto                               Correcto\n",
        "es_bueno = True                             es_bueno = True                    \n",
        "if is_bueno is not True:                    if not es_bueno:\n",
        "    print('Malo')                             print('Malo')\n",
        "\n",
        "#  Incorrecto                               Correcto\n",
        "a = ''                                      a = ''\n",
        "if a == '':                                 if not a:\n",
        "    print('cadena vacia')                             print('cadena vacia')\n",
        "\n",
        "```\n",
        "La forma correcta de comprobar si una variable tiene el valor de True, False o None es con el operador is o is not, evitando el uso de negaciones de expresiones afirmativas.\n",
        "```python\n",
        "#  Incorrecto                               Correcto\n",
        "a = 1                                       a = 1\n",
        "b = 2                                       b = 2\n",
        "if not a is b:                              if a is not b:\n",
        "    print('valores diferentes')                 print('valores diferentes')\n",
        "\n",
        "                                            coche = None\n",
        "                                                if coche is None:\n",
        "                                                print('No hay coche')   \n",
        "```\n",
        "La importación de módulos se hará siempre al comienzo.\n",
        "El orden de importación de los módulos es:\n",
        "*   Módulos de librería estándar\n",
        "*   Módulos de terceros (otras librerías)\n",
        "*   Módulos propios\n",
        "*   Nota: dentro de cada sección se mantendrá el orden alfabético\n",
        "\n",
        "Los comentarios de una linea se haran añadiendo dos espacios\n",
        "```python\n",
        "#  Comentario   \n",
        "```\n",
        "\n",
        "Convención de nombres:\n",
        "La mas usadas son:\n",
        "*   CamelCase, clases o tipos de variables \n",
        "*   snake_case, nombres de paquetes o módulos\n",
        "*   SCREAMING_SNAKE_CASE, constantes\n",
        "Para comprobar si un módulo cumple las reglas de estilos se puede utilizar el paquete pycodestyle (https://github.com/PyCQA/pycodestyle/)\n",
        "\n",
        "### Distribuciones de Python\n",
        "*   Anaconda, utiliza su gestor de paquetes llamado conda \n",
        "*   WinPython\n",
        "*   Enthought Canopy, su gestor de paquetes es EDM\n",
        "*   ActivePython\n",
        "\n",
        "### Instalación de librerías\n",
        "Casi todas las librerías se encuentran en el repositorio de paquetes oficial de Python (https://pypi.org/), <b>pip</b> es el gestor de paquetes, tambien permite buscar, listar e instalar paquetes\n",
        "\n",
        "```bash\n",
        "$ pip search nombrePaquete   \n",
        "$ pip install --user paquete1 paquete2 paquete3\n",
        "$ pip uninstall nombrePaquete   \n",
        "$ pip -upgrade nombrePaquete   \n",
        "$ pip show ipython\n",
        "$ pip list\n",
        "$ pip check\n",
        "$ pip install --index-url http://url.de.otro.repositorio/ NombrePaquete \n",
        "```\n",
        "Es recomendable usar el argumento --user\n",
        "\n",
        "### Manejo de entornos virtuales\n",
        "Un entorno virtual se compone del intérprete en la versión que se haya elegido y todas las librerías o paquetes que se quieran usar asegurandose que el cambio de paquete o instalación no afectará al sistema operativo o a otro entorno virtual.\n",
        "\n",
        "Pip provee herramientas para gestionar dependencias\n",
        "```bash\n",
        "$ pip freeze > requirements.txt\n",
        "$ pip install -U -r requirements.txt\n",
        "```\n",
        "#### Virtualenv o env \n",
        "Permite crear entornos en la misma carpeta del proyecto, y se puede añadir un nombre específico al entorno virtual.\n",
        "\n",
        "Activar entorno virtual:\n",
        "```bash\n",
        "$ virtualenv nombre_entorno     # Python 2\n",
        "$ python3 -m venv nombre_entorno   # Python 3\n",
        "$ source nombre_entorno/bin/activate   # Unix\n",
        "$ \\nombre_entorno\\Scripts\\activate   # Windows\n",
        "```\n",
        "\n",
        "Para desactivar el entorno virtual se puede ejecutar el comando deactive.\n",
        "\n",
        "#### Pipenv\n",
        "Herramienta que une virtualenv y pip (https://pipenv.kennethreitz.org/)\n"
      ],
      "metadata": {
        "id": "Ul8J4DrgpU_l"
      }
    },
    {
      "cell_type": "markdown",
      "source": [
        ""
      ],
      "metadata": {
        "id": "6F8XK9tn__RK"
      }
    },
    {
      "cell_type": "code",
      "source": [
        ""
      ],
      "metadata": {
        "id": "27pxSrb2_9xq"
      },
      "execution_count": null,
      "outputs": []
    },
    {
      "cell_type": "markdown",
      "metadata": {
        "id": "HcRvcWCDcCdO"
      },
      "source": [
        "### 1. Tipos de Datos"
      ]
    },
    {
      "cell_type": "markdown",
      "metadata": {
        "id": "gw7GgX2ub-Fq"
      },
      "source": [
        "Existen distintos tipos de variables:\n",
        "- int: entero\n",
        "- float: punto flotante\n",
        "- string: cadena de caracteres\n",
        "- bool: booleano, 0, 1, True o False\n",
        "\n",
        "Y estructuras de datos, como:\n",
        "  - list: lista de elementos (de cualquier tipo, incluida otra lista)\n",
        "  - dict: \"diccionario\", conjunto de pares llave:valor"
      ]
    },
    {
      "cell_type": "markdown",
      "metadata": {
        "id": "AP8aPXykb7Nr"
      },
      "source": [
        ""
      ]
    },
    {
      "cell_type": "code",
      "metadata": {
        "id": "M0CRWge3Ogz8"
      },
      "source": [
        "a_int = 5\n",
        "a_float = 17\n",
        "a_string = 'variable de ejemplo'\n",
        "a_bool = True\n",
        "a_int_in_string = \"10\""
      ],
      "execution_count": null,
      "outputs": []
    },
    {
      "cell_type": "code",
      "metadata": {
        "id": "QShPAD9qcr8F",
        "outputId": "c709de27-d5d4-4640-ed5a-90dda94dbbbd",
        "colab": {
          "base_uri": "https://localhost:8080/"
        }
      },
      "source": [
        "type(a_int)"
      ],
      "execution_count": null,
      "outputs": [
        {
          "output_type": "execute_result",
          "data": {
            "text/plain": [
              "int"
            ]
          },
          "metadata": {},
          "execution_count": 4
        }
      ]
    },
    {
      "cell_type": "code",
      "metadata": {
        "id": "LiYl7dRxc3nw",
        "outputId": "f4034c10-4ce6-4328-df8d-bc9fefbdb62a",
        "colab": {
          "base_uri": "https://localhost:8080/"
        }
      },
      "source": [
        "type(a_int_in_string)"
      ],
      "execution_count": null,
      "outputs": [
        {
          "output_type": "execute_result",
          "data": {
            "text/plain": [
              "str"
            ]
          },
          "metadata": {},
          "execution_count": 5
        }
      ]
    },
    {
      "cell_type": "code",
      "metadata": {
        "id": "vXho4K09c5da"
      },
      "source": [
        ""
      ],
      "execution_count": null,
      "outputs": []
    }
  ]
}