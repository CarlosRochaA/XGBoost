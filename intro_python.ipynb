{
  "nbformat": 4,
  "nbformat_minor": 0,
  "metadata": {
    "colab": {
      "name": "Untitled3.ipynb",
      "provenance": [],
      "authorship_tag": "ABX9TyOF6R++4K3ULwyP71oF+PmN",
      "include_colab_link": true
    },
    "kernelspec": {
      "name": "python3",
      "display_name": "Python 3"
    },
    "language_info": {
      "name": "python"
    }
  },
  "cells": [
    {
      "cell_type": "markdown",
      "metadata": {
        "id": "view-in-github",
        "colab_type": "text"
      },
      "source": [
        "<a href=\"https://colab.research.google.com/github/CarlosRochaA/py/blob/master/intro_python.ipynb\" target=\"_parent\"><img src=\"https://colab.research.google.com/assets/colab-badge.svg\" alt=\"Open In Colab\"/></a>"
      ]
    },
    {
      "cell_type": "markdown",
      "metadata": {
        "id": "Jo0dPa4IOikK"
      },
      "source": [
        "<a id='contents'></a>\n",
        "# Contents\n",
        "[1. Inteligencia Artificial y Python](#_01) <br>\n",
        "[2. Read data and create datasets](#read) <br>\n",
        "[3. Development by company](#dev) <br>\n",
        "&emsp;&emsp;[3.1 Nielsen](#dev_nielsen) <br> \n",
        "&emsp;&emsp;&emsp;&emsp;[3.1.1 Export Nielsen](#exp_nielsen) <br> \n",
        "&emsp;&emsp;[3.2 FreeWheel](#dev_freewheel) <br> \n",
        "&emsp;&emsp;&emsp;&emsp;[3.2.1 Export FreeWheel](#exp_freewheel) <br> \n",
        "&emsp;&emsp;[3.3 Kusa](#dev_kusa) <br> \n",
        "&emsp;&emsp;&emsp;&emsp;[3.3.1 Export Kusa](#exp_kusa) <br> \n",
        "&emsp;&emsp;[3.4 KDVR](#dev_kdvrn) <br> \n",
        "&emsp;&emsp;&emsp;&emsp;[3.4.1 Export KDVR](#exp_kdvr) <br> \n",
        "&emsp;&emsp;[3.5 Denver ABC - KMGH](#dev_denver) <br> \n",
        "&emsp;&emsp;&emsp;&emsp;[3.5.1 Export Denver ABC - KMGH](#exp_denver) <br> "
      ]
    },
    {
      "cell_type": "markdown",
      "source": [
        "<a id='_01'></a>\n",
        "## 1. Inteligencia Artificial y Python\n",
        "[Contents](#contents) \n",
        "\n",
        "#### Big Data:\n",
        "*   Apacke Spark (https://spark.apache.org/)\n",
        "*   Hadoop (https://hadoop.apache.org)\n",
        "*   Dask (https://dask.org)\n",
        "\n",
        "#### Inteligencia Artificial:\n",
        "Algoritmos para que las computadoras puedan tener comportamientos similares a los humanos, categorizaciones de imagenes, reconocimiento de patrones, PNL y otros. \n",
        "\n",
        "*   Scikit-learn (https://scikit-learn.org/)\n",
        "\n",
        "#### Deep learning: \n",
        "Algoritmos de aprendizaje automático para analizar datos expresados de forma matricial o tensorial mediante capas de redes neuronales, en la mayoría de los casos no necesitan intervención humana para su aprendizaje.\n",
        "\n",
        "*   TensorFlow (https://www.tensorflow.org/)\n",
        "*   CNTK (https://www.docs.microsoft.com/es-es/cognitive-toolkit/)\n",
        "*   Theano (https://py.pi.org/project/Theano/)\n",
        "\n",
        "Estos tres frameworks pueden ser utilizados facilmente por la libreria Keras (https://keras.io)\n",
        "\n"
      ],
      "metadata": {
        "id": "Ul8J4DrgpU_l"
      }
    },
    {
      "cell_type": "markdown",
      "metadata": {
        "id": "HcRvcWCDcCdO"
      },
      "source": [
        "### 1. Tipos de Datos"
      ]
    },
    {
      "cell_type": "markdown",
      "metadata": {
        "id": "gw7GgX2ub-Fq"
      },
      "source": [
        "Existen distintos tipos de variables:\n",
        "- int: entero\n",
        "- float: punto flotante\n",
        "- string: cadena de caracteres\n",
        "- bool: booleano, 0, 1, True o False\n",
        "\n",
        "Y estructuras de datos, como:\n",
        "  - list: lista de elementos (de cualquier tipo, incluida otra lista)\n",
        "  - dict: \"diccionario\", conjunto de pares llave:valor"
      ]
    },
    {
      "cell_type": "markdown",
      "metadata": {
        "id": "AP8aPXykb7Nr"
      },
      "source": [
        ""
      ]
    },
    {
      "cell_type": "code",
      "metadata": {
        "id": "M0CRWge3Ogz8"
      },
      "source": [
        "a_int = 5\n",
        "a_float = 17\n",
        "a_string = 'variable de ejemplo'\n",
        "a_bool = True\n",
        "a_int_in_string = \"10\""
      ],
      "execution_count": null,
      "outputs": []
    },
    {
      "cell_type": "code",
      "metadata": {
        "id": "QShPAD9qcr8F",
        "outputId": "c709de27-d5d4-4640-ed5a-90dda94dbbbd",
        "colab": {
          "base_uri": "https://localhost:8080/"
        }
      },
      "source": [
        "type(a_int)"
      ],
      "execution_count": null,
      "outputs": [
        {
          "output_type": "execute_result",
          "data": {
            "text/plain": [
              "int"
            ]
          },
          "metadata": {},
          "execution_count": 4
        }
      ]
    },
    {
      "cell_type": "code",
      "metadata": {
        "id": "LiYl7dRxc3nw",
        "outputId": "f4034c10-4ce6-4328-df8d-bc9fefbdb62a",
        "colab": {
          "base_uri": "https://localhost:8080/"
        }
      },
      "source": [
        "type(a_int_in_string)"
      ],
      "execution_count": null,
      "outputs": [
        {
          "output_type": "execute_result",
          "data": {
            "text/plain": [
              "str"
            ]
          },
          "metadata": {},
          "execution_count": 5
        }
      ]
    },
    {
      "cell_type": "code",
      "metadata": {
        "id": "vXho4K09c5da"
      },
      "source": [
        ""
      ],
      "execution_count": null,
      "outputs": []
    }
  ]
}